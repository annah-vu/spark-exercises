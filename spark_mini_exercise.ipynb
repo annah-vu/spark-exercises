{
 "cells": [
  {
   "cell_type": "markdown",
   "id": "ed3f5560-dee4-4aff-9a37-4fd230020118",
   "metadata": {},
   "source": [
    "# 1.) Spark Dataframe Basics"
   ]
  },
  {
   "cell_type": "markdown",
   "id": "1ac2e11b-8645-4f0c-8edc-57622255bf75",
   "metadata": {},
   "source": [
    "i.) Use the starter code to create a pandas dataframe."
   ]
  },
  {
   "cell_type": "code",
   "execution_count": 1,
   "id": "be75dbfd-f273-46bc-942d-f6b2ab1d8a3b",
   "metadata": {},
   "outputs": [],
   "source": [
    "import numpy as np\n",
    "import pandas as pd\n",
    "import pyspark\n",
    "\n",
    "spark = pyspark.sql.SparkSession.builder.getOrCreate()\n",
    "\n",
    "np.random.seed(13)\n",
    "\n",
    "pandas_dataframe = pd.DataFrame(\n",
    "    {\n",
    "        \"n\": np.random.randn(20),\n",
    "        \"group\": np.random.choice(list(\"xyz\"), 20),\n",
    "        \"abool\": np.random.choice([True, False], 20),\n",
    "    }\n",
    ")"
   ]
  },
  {
   "cell_type": "code",
   "execution_count": 2,
   "id": "db52dd56-34b8-4c6a-a54a-dd12a85b8c1c",
   "metadata": {},
   "outputs": [
    {
     "data": {
      "text/html": [
       "<div>\n",
       "<style scoped>\n",
       "    .dataframe tbody tr th:only-of-type {\n",
       "        vertical-align: middle;\n",
       "    }\n",
       "\n",
       "    .dataframe tbody tr th {\n",
       "        vertical-align: top;\n",
       "    }\n",
       "\n",
       "    .dataframe thead th {\n",
       "        text-align: right;\n",
       "    }\n",
       "</style>\n",
       "<table border=\"1\" class=\"dataframe\">\n",
       "  <thead>\n",
       "    <tr style=\"text-align: right;\">\n",
       "      <th></th>\n",
       "      <th>n</th>\n",
       "      <th>group</th>\n",
       "      <th>abool</th>\n",
       "    </tr>\n",
       "  </thead>\n",
       "  <tbody>\n",
       "    <tr>\n",
       "      <th>0</th>\n",
       "      <td>-0.712391</td>\n",
       "      <td>z</td>\n",
       "      <td>False</td>\n",
       "    </tr>\n",
       "    <tr>\n",
       "      <th>1</th>\n",
       "      <td>0.753766</td>\n",
       "      <td>x</td>\n",
       "      <td>False</td>\n",
       "    </tr>\n",
       "    <tr>\n",
       "      <th>2</th>\n",
       "      <td>-0.044503</td>\n",
       "      <td>z</td>\n",
       "      <td>False</td>\n",
       "    </tr>\n",
       "    <tr>\n",
       "      <th>3</th>\n",
       "      <td>0.451812</td>\n",
       "      <td>y</td>\n",
       "      <td>False</td>\n",
       "    </tr>\n",
       "    <tr>\n",
       "      <th>4</th>\n",
       "      <td>1.345102</td>\n",
       "      <td>z</td>\n",
       "      <td>False</td>\n",
       "    </tr>\n",
       "    <tr>\n",
       "      <th>5</th>\n",
       "      <td>0.532338</td>\n",
       "      <td>y</td>\n",
       "      <td>False</td>\n",
       "    </tr>\n",
       "    <tr>\n",
       "      <th>6</th>\n",
       "      <td>1.350188</td>\n",
       "      <td>z</td>\n",
       "      <td>False</td>\n",
       "    </tr>\n",
       "    <tr>\n",
       "      <th>7</th>\n",
       "      <td>0.861211</td>\n",
       "      <td>x</td>\n",
       "      <td>False</td>\n",
       "    </tr>\n",
       "    <tr>\n",
       "      <th>8</th>\n",
       "      <td>1.478686</td>\n",
       "      <td>z</td>\n",
       "      <td>True</td>\n",
       "    </tr>\n",
       "    <tr>\n",
       "      <th>9</th>\n",
       "      <td>-1.045377</td>\n",
       "      <td>y</td>\n",
       "      <td>True</td>\n",
       "    </tr>\n",
       "    <tr>\n",
       "      <th>10</th>\n",
       "      <td>-0.788989</td>\n",
       "      <td>x</td>\n",
       "      <td>False</td>\n",
       "    </tr>\n",
       "    <tr>\n",
       "      <th>11</th>\n",
       "      <td>-1.261606</td>\n",
       "      <td>y</td>\n",
       "      <td>False</td>\n",
       "    </tr>\n",
       "    <tr>\n",
       "      <th>12</th>\n",
       "      <td>0.562847</td>\n",
       "      <td>y</td>\n",
       "      <td>True</td>\n",
       "    </tr>\n",
       "    <tr>\n",
       "      <th>13</th>\n",
       "      <td>-0.243326</td>\n",
       "      <td>y</td>\n",
       "      <td>True</td>\n",
       "    </tr>\n",
       "    <tr>\n",
       "      <th>14</th>\n",
       "      <td>0.913741</td>\n",
       "      <td>y</td>\n",
       "      <td>False</td>\n",
       "    </tr>\n",
       "    <tr>\n",
       "      <th>15</th>\n",
       "      <td>0.317351</td>\n",
       "      <td>x</td>\n",
       "      <td>False</td>\n",
       "    </tr>\n",
       "    <tr>\n",
       "      <th>16</th>\n",
       "      <td>0.127303</td>\n",
       "      <td>z</td>\n",
       "      <td>False</td>\n",
       "    </tr>\n",
       "    <tr>\n",
       "      <th>17</th>\n",
       "      <td>2.150383</td>\n",
       "      <td>y</td>\n",
       "      <td>True</td>\n",
       "    </tr>\n",
       "    <tr>\n",
       "      <th>18</th>\n",
       "      <td>0.606289</td>\n",
       "      <td>x</td>\n",
       "      <td>False</td>\n",
       "    </tr>\n",
       "    <tr>\n",
       "      <th>19</th>\n",
       "      <td>-0.026772</td>\n",
       "      <td>x</td>\n",
       "      <td>True</td>\n",
       "    </tr>\n",
       "  </tbody>\n",
       "</table>\n",
       "</div>"
      ],
      "text/plain": [
       "           n group  abool\n",
       "0  -0.712391     z  False\n",
       "1   0.753766     x  False\n",
       "2  -0.044503     z  False\n",
       "3   0.451812     y  False\n",
       "4   1.345102     z  False\n",
       "5   0.532338     y  False\n",
       "6   1.350188     z  False\n",
       "7   0.861211     x  False\n",
       "8   1.478686     z   True\n",
       "9  -1.045377     y   True\n",
       "10 -0.788989     x  False\n",
       "11 -1.261606     y  False\n",
       "12  0.562847     y   True\n",
       "13 -0.243326     y   True\n",
       "14  0.913741     y  False\n",
       "15  0.317351     x  False\n",
       "16  0.127303     z  False\n",
       "17  2.150383     y   True\n",
       "18  0.606289     x  False\n",
       "19 -0.026772     x   True"
      ]
     },
     "execution_count": 2,
     "metadata": {},
     "output_type": "execute_result"
    }
   ],
   "source": [
    "pandas_dataframe"
   ]
  },
  {
   "cell_type": "markdown",
   "id": "48e5d121-c6ff-48b1-ab1b-4aa25acfbef7",
   "metadata": {},
   "source": [
    "ii.) Convert the pandas dataframe to a spark dataframe. From this point forward, do all of your work with the spark dataframe, not the pandas dataframe."
   ]
  },
  {
   "cell_type": "code",
   "execution_count": 3,
   "id": "718c8c6f-f342-4dbc-8f71-8a7b23de4e1a",
   "metadata": {},
   "outputs": [
    {
     "data": {
      "text/plain": [
       "DataFrame[n: double, group: string, abool: boolean]"
      ]
     },
     "execution_count": 3,
     "metadata": {},
     "output_type": "execute_result"
    }
   ],
   "source": [
    "df = spark.createDataFrame(pandas_dataframe)\n",
    "df"
   ]
  },
  {
   "cell_type": "markdown",
   "id": "07dd328b-80fb-44d1-8b8c-e8289fbeb156",
   "metadata": {},
   "source": [
    "iii.) Show the first 3 rows of the dataframe."
   ]
  },
  {
   "cell_type": "code",
   "execution_count": 4,
   "id": "96ba0070-9d64-4cb9-860b-65b0b6e84d50",
   "metadata": {},
   "outputs": [
    {
     "name": "stdout",
     "output_type": "stream",
     "text": [
      "+--------------------+-----+-----+\n",
      "|                   n|group|abool|\n",
      "+--------------------+-----+-----+\n",
      "|  -0.712390662050588|    z|false|\n",
      "|   0.753766378659703|    x|false|\n",
      "|-0.04450307833805...|    z|false|\n",
      "+--------------------+-----+-----+\n",
      "only showing top 3 rows\n",
      "\n"
     ]
    }
   ],
   "source": [
    "df.show(3)"
   ]
  },
  {
   "cell_type": "markdown",
   "id": "ff61a578-1b38-40db-98ac-0e5726f79a73",
   "metadata": {},
   "source": [
    "iv.) Show the first 7 rows of the dataframe."
   ]
  },
  {
   "cell_type": "code",
   "execution_count": 5,
   "id": "f01b1ed9-8bd6-4f00-8198-cd64be2a3a90",
   "metadata": {},
   "outputs": [
    {
     "name": "stdout",
     "output_type": "stream",
     "text": [
      "+--------------------+-----+-----+\n",
      "|                   n|group|abool|\n",
      "+--------------------+-----+-----+\n",
      "|  -0.712390662050588|    z|false|\n",
      "|   0.753766378659703|    x|false|\n",
      "|-0.04450307833805...|    z|false|\n",
      "| 0.45181233874578974|    y|false|\n",
      "|  1.3451017084510097|    z|false|\n",
      "|  0.5323378882945463|    y|false|\n",
      "|  1.3501878997225267|    z|false|\n",
      "+--------------------+-----+-----+\n",
      "only showing top 7 rows\n",
      "\n"
     ]
    }
   ],
   "source": [
    "df.show(7)"
   ]
  },
  {
   "cell_type": "markdown",
   "id": "170612e5-ad04-4260-b593-068fcfcff35c",
   "metadata": {},
   "source": [
    "v.) View a summary of the data using .describe."
   ]
  },
  {
   "cell_type": "code",
   "execution_count": 69,
   "id": "24014d87-104d-4d96-aa03-0b8eca00dc08",
   "metadata": {},
   "outputs": [
    {
     "name": "stdout",
     "output_type": "stream",
     "text": [
      "+-------+------------------+-----+\n",
      "|summary|                 n|group|\n",
      "+-------+------------------+-----+\n",
      "|  count|                20|   20|\n",
      "|   mean|0.3664026449885217| null|\n",
      "| stddev|0.8905322898155363| null|\n",
      "|    min|-1.261605945319069|    x|\n",
      "|    max|2.1503829673811126|    z|\n",
      "+-------+------------------+-----+\n",
      "\n"
     ]
    }
   ],
   "source": [
    "df.describe().show()"
   ]
  },
  {
   "cell_type": "markdown",
   "id": "f28b19b4-4ed7-4f81-9c3a-ce3ee832c4df",
   "metadata": {},
   "source": [
    "vi.) Use .select to create a new dataframe with just the n and abool columns. View the first 5 rows of this dataframe."
   ]
  },
  {
   "cell_type": "code",
   "execution_count": 7,
   "id": "635b9d6a-9b01-4ec4-ad0f-af4b891eb4a8",
   "metadata": {},
   "outputs": [
    {
     "name": "stdout",
     "output_type": "stream",
     "text": [
      "+--------------------+-----+\n",
      "|                   n|abool|\n",
      "+--------------------+-----+\n",
      "|  -0.712390662050588|false|\n",
      "|   0.753766378659703|false|\n",
      "|-0.04450307833805...|false|\n",
      "| 0.45181233874578974|false|\n",
      "|  1.3451017084510097|false|\n",
      "+--------------------+-----+\n",
      "only showing top 5 rows\n",
      "\n"
     ]
    }
   ],
   "source": [
    "df.select('n','abool').show(5)"
   ]
  },
  {
   "cell_type": "markdown",
   "id": "1297d37c-861a-47ff-8f7d-af1dd44f5e23",
   "metadata": {},
   "source": [
    "vii.) Use .select to create a new dataframe with just the group and abool columns. View the first 5 rows of this dataframe."
   ]
  },
  {
   "cell_type": "code",
   "execution_count": 8,
   "id": "6036e988-a424-4cdf-8764-d9ee5ece5b4b",
   "metadata": {},
   "outputs": [
    {
     "name": "stdout",
     "output_type": "stream",
     "text": [
      "+-----+-----+\n",
      "|group|abool|\n",
      "+-----+-----+\n",
      "|    z|false|\n",
      "|    x|false|\n",
      "|    z|false|\n",
      "|    y|false|\n",
      "|    z|false|\n",
      "+-----+-----+\n",
      "only showing top 5 rows\n",
      "\n"
     ]
    }
   ],
   "source": [
    "df.select('group','abool').show(5)"
   ]
  },
  {
   "cell_type": "markdown",
   "id": "2296fa72-95bb-4f44-87bc-c25ace2b996c",
   "metadata": {},
   "source": [
    "viii.) Use .select to create a new dataframe with the group column and the abool column renamed to a_boolean_value. Show the first 3 rows of this dataframe."
   ]
  },
  {
   "cell_type": "code",
   "execution_count": 9,
   "id": "b6b2fac6-a6b8-43e9-90a8-c618e1804625",
   "metadata": {},
   "outputs": [
    {
     "data": {
      "text/plain": [
       "Column<'abool'>"
      ]
     },
     "execution_count": 9,
     "metadata": {},
     "output_type": "execute_result"
    }
   ],
   "source": [
    "col = df.abool\n",
    "col"
   ]
  },
  {
   "cell_type": "code",
   "execution_count": 10,
   "id": "4b816820-a28f-451f-99e4-814373fb5fb7",
   "metadata": {},
   "outputs": [
    {
     "name": "stdout",
     "output_type": "stream",
     "text": [
      "+-----+----------------+\n",
      "|group|a_boolean_values|\n",
      "+-----+----------------+\n",
      "|    z|           false|\n",
      "|    x|           false|\n",
      "|    z|           false|\n",
      "+-----+----------------+\n",
      "only showing top 3 rows\n",
      "\n"
     ]
    }
   ],
   "source": [
    "df.select('group', col.alias('a_boolean_values')).show(3)"
   ]
  },
  {
   "cell_type": "markdown",
   "id": "e5173d00-9e0a-4db0-843a-0db218bd9478",
   "metadata": {},
   "source": [
    "ix.) Use .select to create a new dataframe with the group column and the n column renamed to a_numeric_value. Show the first 6 rows of this dataframe."
   ]
  },
  {
   "cell_type": "code",
   "execution_count": 11,
   "id": "d0bd3c56-70fe-4d56-a1ca-301b02d14da8",
   "metadata": {},
   "outputs": [],
   "source": [
    "col = df.n"
   ]
  },
  {
   "cell_type": "code",
   "execution_count": 12,
   "id": "4c0367ee-ebb2-4834-9a57-3528fbdc6dcd",
   "metadata": {},
   "outputs": [
    {
     "name": "stdout",
     "output_type": "stream",
     "text": [
      "+-----+--------------------+\n",
      "|group|     a_numeric_value|\n",
      "+-----+--------------------+\n",
      "|    z|  -0.712390662050588|\n",
      "|    x|   0.753766378659703|\n",
      "|    z|-0.04450307833805...|\n",
      "|    y| 0.45181233874578974|\n",
      "|    z|  1.3451017084510097|\n",
      "|    y|  0.5323378882945463|\n",
      "+-----+--------------------+\n",
      "only showing top 6 rows\n",
      "\n"
     ]
    }
   ],
   "source": [
    "df.select('group', col.alias('a_numeric_value')).show(6)"
   ]
  },
  {
   "cell_type": "markdown",
   "id": "98d57f61-a097-4f7d-a1d3-376588738879",
   "metadata": {},
   "source": [
    "# 2.) Column Manipulation"
   ]
  },
  {
   "cell_type": "code",
   "execution_count": 13,
   "id": "3832b0da-c7c6-40d4-a085-7a6a25dbf169",
   "metadata": {},
   "outputs": [
    {
     "name": "stdout",
     "output_type": "stream",
     "text": [
      "+--------------------+-----+-----+\n",
      "|                   n|group|abool|\n",
      "+--------------------+-----+-----+\n",
      "|  -0.712390662050588|    z|false|\n",
      "|   0.753766378659703|    x|false|\n",
      "|-0.04450307833805...|    z|false|\n",
      "| 0.45181233874578974|    y|false|\n",
      "|  1.3451017084510097|    z|false|\n",
      "+--------------------+-----+-----+\n",
      "only showing top 5 rows\n",
      "\n"
     ]
    }
   ],
   "source": [
    "df.show(5)"
   ]
  },
  {
   "cell_type": "markdown",
   "id": "ce5cdf08-3746-43f2-99a8-e4c237ed74e3",
   "metadata": {},
   "source": [
    "ii.) Use .select to add 4 to the n column. Show the results."
   ]
  },
  {
   "cell_type": "code",
   "execution_count": 14,
   "id": "22d36170-3a14-49b1-a082-64827590bb44",
   "metadata": {},
   "outputs": [
    {
     "name": "stdout",
     "output_type": "stream",
     "text": [
      "+------------------+\n",
      "|           (n + 4)|\n",
      "+------------------+\n",
      "|3.2876093379494122|\n",
      "| 4.753766378659703|\n",
      "|3.9554969216619464|\n",
      "|  4.45181233874579|\n",
      "|5.3451017084510095|\n",
      "+------------------+\n",
      "only showing top 5 rows\n",
      "\n"
     ]
    }
   ],
   "source": [
    "df.select(df.n +4).show(5)"
   ]
  },
  {
   "cell_type": "markdown",
   "id": "cf658fcb-e838-4097-83d5-c8a5cd53a9a6",
   "metadata": {},
   "source": [
    "iii.) Subtract 5 from the n column and view the results."
   ]
  },
  {
   "cell_type": "code",
   "execution_count": 15,
   "id": "3b1d8d6b-27ec-4926-a239-98cb4cca69bf",
   "metadata": {},
   "outputs": [
    {
     "name": "stdout",
     "output_type": "stream",
     "text": [
      "+-------------------+\n",
      "|            (n - 5)|\n",
      "+-------------------+\n",
      "| -5.712390662050588|\n",
      "| -4.246233621340297|\n",
      "| -5.044503078338053|\n",
      "|  -4.54818766125421|\n",
      "|-3.6548982915489905|\n",
      "+-------------------+\n",
      "only showing top 5 rows\n",
      "\n"
     ]
    }
   ],
   "source": [
    "df.select(df.n -5).show(5)"
   ]
  },
  {
   "cell_type": "markdown",
   "id": "00f65157-6c94-40a0-90cf-deb489183eef",
   "metadata": {},
   "source": [
    "iv.) Multiply the n column by 5. View the results along with the original numbers."
   ]
  },
  {
   "cell_type": "code",
   "execution_count": 16,
   "id": "ff6fc572-c1be-4719-915c-9cf68bf55ad3",
   "metadata": {},
   "outputs": [
    {
     "data": {
      "text/plain": [
       "Column<'(n * 5)'>"
      ]
     },
     "execution_count": 16,
     "metadata": {},
     "output_type": "execute_result"
    }
   ],
   "source": [
    "col = df.n * 5\n",
    "col"
   ]
  },
  {
   "cell_type": "code",
   "execution_count": 17,
   "id": "c01f82bc-471d-4e55-a09c-b6e410a6a4d6",
   "metadata": {},
   "outputs": [
    {
     "name": "stdout",
     "output_type": "stream",
     "text": [
      "+--------------------+--------------------+\n",
      "|                   n|               n x 5|\n",
      "+--------------------+--------------------+\n",
      "|  -0.712390662050588| -3.5619533102529397|\n",
      "|   0.753766378659703|  3.7688318932985148|\n",
      "|-0.04450307833805...|-0.22251539169026727|\n",
      "| 0.45181233874578974|   2.259061693728949|\n",
      "|  1.3451017084510097|  6.7255085422550485|\n",
      "+--------------------+--------------------+\n",
      "only showing top 5 rows\n",
      "\n"
     ]
    }
   ],
   "source": [
    "df.select('n', col.alias('n x 5')).show(5)"
   ]
  },
  {
   "cell_type": "markdown",
   "id": "0099aa3b-7d00-44f6-9f59-3ada82b2f757",
   "metadata": {},
   "source": [
    "v.) Add a new column named n2 that is the n value multiplied by -1. Show the first 4 rows of your dataframe. You should see the original n value as well as n2."
   ]
  },
  {
   "cell_type": "code",
   "execution_count": 18,
   "id": "237008de-eaa9-4101-a302-8d6d5a5b38dc",
   "metadata": {},
   "outputs": [
    {
     "data": {
      "text/plain": [
       "Column<'(n * -1)'>"
      ]
     },
     "execution_count": 18,
     "metadata": {},
     "output_type": "execute_result"
    }
   ],
   "source": [
    "col = df.n * -1\n",
    "col"
   ]
  },
  {
   "cell_type": "code",
   "execution_count": 19,
   "id": "5fa5433c-6b14-4adc-a1b8-412810c98b54",
   "metadata": {},
   "outputs": [],
   "source": [
    "df = df.select('n', col.alias('n2'))"
   ]
  },
  {
   "cell_type": "code",
   "execution_count": 22,
   "id": "cc3eb0ed-6760-4afe-a00c-d307ba3b3e07",
   "metadata": {},
   "outputs": [
    {
     "name": "stdout",
     "output_type": "stream",
     "text": [
      "+--------------------+--------------------+\n",
      "|                   n|                  n2|\n",
      "+--------------------+--------------------+\n",
      "|  -0.712390662050588|   0.712390662050588|\n",
      "|   0.753766378659703|  -0.753766378659703|\n",
      "|-0.04450307833805...|0.044503078338053455|\n",
      "| 0.45181233874578974|-0.45181233874578974|\n",
      "|  1.3451017084510097| -1.3451017084510097|\n",
      "+--------------------+--------------------+\n",
      "only showing top 5 rows\n",
      "\n"
     ]
    }
   ],
   "source": [
    "df.show(5)"
   ]
  },
  {
   "cell_type": "markdown",
   "id": "d511df8f-1323-461d-a857-16f04dd70b81",
   "metadata": {},
   "source": [
    "vi.) Add a new column named n3 that is the n value squared. Show the first 5 rows of your dataframe. You should see both n, n2, and n3."
   ]
  },
  {
   "cell_type": "code",
   "execution_count": 21,
   "id": "62aab670-9708-4f69-8ff9-11aee2a41362",
   "metadata": {},
   "outputs": [
    {
     "data": {
      "text/plain": [
       "Column<'(n * -1)'>"
      ]
     },
     "execution_count": 21,
     "metadata": {},
     "output_type": "execute_result"
    }
   ],
   "source": [
    "col = df.n ** 2\n",
    "col"
   ]
  },
  {
   "cell_type": "code",
   "execution_count": 25,
   "id": "d5922765-3017-46e4-b1fc-a95bd14d6544",
   "metadata": {},
   "outputs": [],
   "source": [
    "df = df.select('n','n2', col.alias('n3'))"
   ]
  },
  {
   "cell_type": "code",
   "execution_count": 26,
   "id": "8abf232d-5e4c-4b62-a714-49f36c99afb4",
   "metadata": {},
   "outputs": [
    {
     "name": "stdout",
     "output_type": "stream",
     "text": [
      "+--------------------+--------------------+--------------------+\n",
      "|                   n|                  n2|                  n3|\n",
      "+--------------------+--------------------+--------------------+\n",
      "|  -0.712390662050588|   0.712390662050588|   0.712390662050588|\n",
      "|   0.753766378659703|  -0.753766378659703|  -0.753766378659703|\n",
      "|-0.04450307833805...|0.044503078338053455|0.044503078338053455|\n",
      "| 0.45181233874578974|-0.45181233874578974|-0.45181233874578974|\n",
      "|  1.3451017084510097| -1.3451017084510097| -1.3451017084510097|\n",
      "+--------------------+--------------------+--------------------+\n",
      "only showing top 5 rows\n",
      "\n"
     ]
    }
   ],
   "source": [
    "df.show(5)"
   ]
  },
  {
   "cell_type": "markdown",
   "id": "24fe87f3-fbe2-494b-9188-4db711f80784",
   "metadata": {},
   "source": [
    "vii.) What happens when you run the code below?"
   ]
  },
  {
   "cell_type": "code",
   "execution_count": 29,
   "id": "a5a83056-9eda-42d8-a476-ced45014ecfc",
   "metadata": {},
   "outputs": [
    {
     "ename": "AttributeError",
     "evalue": "'DataFrame' object has no attribute 'group'",
     "output_type": "error",
     "traceback": [
      "\u001b[0;31m---------------------------------------------------------------------------\u001b[0m",
      "\u001b[0;31mAttributeError\u001b[0m                            Traceback (most recent call last)",
      "\u001b[0;32m<ipython-input-29-ec4a600cf1bd>\u001b[0m in \u001b[0;36m<module>\u001b[0;34m\u001b[0m\n\u001b[0;32m----> 1\u001b[0;31m \u001b[0mdf\u001b[0m\u001b[0;34m.\u001b[0m\u001b[0mgroup\u001b[0m \u001b[0;34m+\u001b[0m \u001b[0mdf\u001b[0m\u001b[0;34m.\u001b[0m\u001b[0mabool\u001b[0m\u001b[0;34m\u001b[0m\u001b[0;34m\u001b[0m\u001b[0m\n\u001b[0m",
      "\u001b[0;32m/usr/local/anaconda3/lib/python3.8/site-packages/pyspark/sql/dataframe.py\u001b[0m in \u001b[0;36m__getattr__\u001b[0;34m(self, name)\u001b[0m\n\u001b[1;32m   1641\u001b[0m         \"\"\"\n\u001b[1;32m   1642\u001b[0m         \u001b[0;32mif\u001b[0m \u001b[0mname\u001b[0m \u001b[0;32mnot\u001b[0m \u001b[0;32min\u001b[0m \u001b[0mself\u001b[0m\u001b[0;34m.\u001b[0m\u001b[0mcolumns\u001b[0m\u001b[0;34m:\u001b[0m\u001b[0;34m\u001b[0m\u001b[0;34m\u001b[0m\u001b[0m\n\u001b[0;32m-> 1643\u001b[0;31m             raise AttributeError(\n\u001b[0m\u001b[1;32m   1644\u001b[0m                 \"'%s' object has no attribute '%s'\" % (self.__class__.__name__, name))\n\u001b[1;32m   1645\u001b[0m         \u001b[0mjc\u001b[0m \u001b[0;34m=\u001b[0m \u001b[0mself\u001b[0m\u001b[0;34m.\u001b[0m\u001b[0m_jdf\u001b[0m\u001b[0;34m.\u001b[0m\u001b[0mapply\u001b[0m\u001b[0;34m(\u001b[0m\u001b[0mname\u001b[0m\u001b[0;34m)\u001b[0m\u001b[0;34m\u001b[0m\u001b[0;34m\u001b[0m\u001b[0m\n",
      "\u001b[0;31mAttributeError\u001b[0m: 'DataFrame' object has no attribute 'group'"
     ]
    }
   ],
   "source": [
    "#this will not do anything\n",
    "# df.group + df.abool"
   ]
  },
  {
   "cell_type": "markdown",
   "id": "53d4659b-a4a6-44fa-b0fd-0edcc15b8e79",
   "metadata": {},
   "source": [
    "viii.) What happens when you run the code below? What is the difference between this and the previous code sample?"
   ]
  },
  {
   "cell_type": "code",
   "execution_count": null,
   "id": "98cf7f89-517f-452c-af60-168371c72526",
   "metadata": {},
   "outputs": [],
   "source": [
    "# will also not do anything\n",
    "df.select(df.group + df.abool)"
   ]
  },
  {
   "cell_type": "markdown",
   "id": "cce8d279-b20b-425e-ba29-c7cc63377393",
   "metadata": {},
   "source": [
    "ix.) Try adding various other columns together. What are the results of combining the different data types?"
   ]
  },
  {
   "cell_type": "code",
   "execution_count": 33,
   "id": "fe162129-146d-40e1-83df-6845b99f9012",
   "metadata": {},
   "outputs": [
    {
     "name": "stdout",
     "output_type": "stream",
     "text": [
      "+-------------------+\n",
      "|          (n2 + n3)|\n",
      "+-------------------+\n",
      "|  1.424781324101176|\n",
      "| -1.507532757319406|\n",
      "|0.08900615667610691|\n",
      "|-0.9036246774915795|\n",
      "|-2.6902034169020195|\n",
      "+-------------------+\n",
      "only showing top 5 rows\n",
      "\n"
     ]
    }
   ],
   "source": [
    "#adds the columns together\n",
    "df.select(df.n2 + df.n3).show(5)"
   ]
  },
  {
   "cell_type": "markdown",
   "id": "b3b22cba-3c53-4db4-b4cb-13b7964f664d",
   "metadata": {},
   "source": [
    "# 3.) Type Casting"
   ]
  },
  {
   "cell_type": "markdown",
   "id": "a7ef1246-acad-42e1-b4a1-661e85d32c4c",
   "metadata": {},
   "source": [
    "i.) Use the starter code above to re-create a spark dataframe."
   ]
  },
  {
   "cell_type": "code",
   "execution_count": 34,
   "id": "b16a80ba-7aef-4366-86d5-0467472e4c98",
   "metadata": {},
   "outputs": [
    {
     "data": {
      "text/plain": [
       "DataFrame[n: double, group: string, abool: boolean]"
      ]
     },
     "execution_count": 34,
     "metadata": {},
     "output_type": "execute_result"
    }
   ],
   "source": [
    "df = spark.createDataFrame(pandas_dataframe)\n",
    "df"
   ]
  },
  {
   "cell_type": "markdown",
   "id": "11b8a97c-776b-4d12-8231-77df4eaf71c8",
   "metadata": {},
   "source": [
    "ii.) Use .printSchema to view the datatypes in your dataframe."
   ]
  },
  {
   "cell_type": "code",
   "execution_count": 35,
   "id": "2fe4c5c1-8233-481f-bcc8-8c03d97fa9c2",
   "metadata": {},
   "outputs": [
    {
     "data": {
      "text/plain": [
       "<bound method DataFrame.printSchema of DataFrame[n: double, group: string, abool: boolean]>"
      ]
     },
     "execution_count": 35,
     "metadata": {},
     "output_type": "execute_result"
    }
   ],
   "source": [
    "df.printSchema"
   ]
  },
  {
   "cell_type": "markdown",
   "id": "16047aa8-5f49-4472-ac9f-77aac08ab4bf",
   "metadata": {},
   "source": [
    "iii.) Use .dtypes to view the datatypes in your dataframe."
   ]
  },
  {
   "cell_type": "code",
   "execution_count": 36,
   "id": "bf5aa72a-540d-4571-928e-bd64f5be8393",
   "metadata": {},
   "outputs": [
    {
     "data": {
      "text/plain": [
       "[('n', 'double'), ('group', 'string'), ('abool', 'boolean')]"
      ]
     },
     "execution_count": 36,
     "metadata": {},
     "output_type": "execute_result"
    }
   ],
   "source": [
    "df.dtypes"
   ]
  },
  {
   "cell_type": "markdown",
   "id": "9c0e9353-e4d7-470c-8fee-a6fc77080e3b",
   "metadata": {},
   "source": [
    "iv.) What is the difference between the two code samples below?\n",
    "\n",
    "df.abool.cast('int) casts abool as an int\n",
    "df.select(df.abool.cast('int')).show() this one casts abool as an int and shows us the results"
   ]
  },
  {
   "cell_type": "code",
   "execution_count": 39,
   "id": "03e3df50-bf52-4df4-a403-c69cb46bcd15",
   "metadata": {},
   "outputs": [
    {
     "data": {
      "text/plain": [
       "Column<'CAST(abool AS INT)'>"
      ]
     },
     "execution_count": 39,
     "metadata": {},
     "output_type": "execute_result"
    }
   ],
   "source": [
    "#casts abool as int\n",
    "df.abool.cast('int')"
   ]
  },
  {
   "cell_type": "markdown",
   "id": "81add595-06d5-41c8-a11b-abf95e7c9076",
   "metadata": {},
   "source": [
    "v.) Use .select and .cast to convert the abool column to an integer type. View the results."
   ]
  },
  {
   "cell_type": "code",
   "execution_count": 40,
   "id": "367233a6-424c-406e-bb74-217179c863fe",
   "metadata": {},
   "outputs": [
    {
     "name": "stdout",
     "output_type": "stream",
     "text": [
      "+-----+\n",
      "|abool|\n",
      "+-----+\n",
      "|    0|\n",
      "|    0|\n",
      "|    0|\n",
      "|    0|\n",
      "|    0|\n",
      "|    0|\n",
      "|    0|\n",
      "|    0|\n",
      "|    1|\n",
      "|    1|\n",
      "|    0|\n",
      "|    0|\n",
      "|    1|\n",
      "|    1|\n",
      "|    0|\n",
      "|    0|\n",
      "|    0|\n",
      "|    1|\n",
      "|    0|\n",
      "|    1|\n",
      "+-----+\n",
      "\n"
     ]
    }
   ],
   "source": [
    "#shows us the results\n",
    "df.select(df.abool.cast('int')).show()"
   ]
  },
  {
   "cell_type": "markdown",
   "id": "e9f26df9-c434-48b4-858f-db874f8eaca6",
   "metadata": {},
   "source": [
    "vi.) Convert the group column to a integer data type and view the results. What happens?"
   ]
  },
  {
   "cell_type": "code",
   "execution_count": 42,
   "id": "82b65c8d-dc20-4fc8-976b-2d838393089a",
   "metadata": {},
   "outputs": [
    {
     "name": "stdout",
     "output_type": "stream",
     "text": [
      "+-----+\n",
      "|group|\n",
      "+-----+\n",
      "| null|\n",
      "| null|\n",
      "| null|\n",
      "| null|\n",
      "| null|\n",
      "| null|\n",
      "| null|\n",
      "| null|\n",
      "| null|\n",
      "| null|\n",
      "| null|\n",
      "| null|\n",
      "| null|\n",
      "| null|\n",
      "| null|\n",
      "| null|\n",
      "| null|\n",
      "| null|\n",
      "| null|\n",
      "| null|\n",
      "+-----+\n",
      "\n"
     ]
    }
   ],
   "source": [
    "#they all became null because the groups cannot be converted to integers\n",
    "df.select(df.group.cast('int')).show()"
   ]
  },
  {
   "cell_type": "markdown",
   "id": "c7d2834f-089b-4499-917e-fcbcdc9ebed2",
   "metadata": {},
   "source": [
    "vii.) Convert the n column to a integer data type and view the results. What happens?"
   ]
  },
  {
   "cell_type": "code",
   "execution_count": 43,
   "id": "f5258fbf-f563-4b0d-87f0-f3e4d69ed88c",
   "metadata": {},
   "outputs": [
    {
     "name": "stdout",
     "output_type": "stream",
     "text": [
      "+---+\n",
      "|  n|\n",
      "+---+\n",
      "|  0|\n",
      "|  0|\n",
      "|  0|\n",
      "|  0|\n",
      "|  1|\n",
      "|  0|\n",
      "|  1|\n",
      "|  0|\n",
      "|  1|\n",
      "| -1|\n",
      "|  0|\n",
      "| -1|\n",
      "|  0|\n",
      "|  0|\n",
      "|  0|\n",
      "|  0|\n",
      "|  0|\n",
      "|  2|\n",
      "|  0|\n",
      "|  0|\n",
      "+---+\n",
      "\n"
     ]
    }
   ],
   "source": [
    "#rounds to nearest integer\n",
    "df.select(df.n.cast('int')).show()"
   ]
  },
  {
   "cell_type": "markdown",
   "id": "934f0369-64f9-46c2-a35f-43f1a17ca2e5",
   "metadata": {},
   "source": [
    "viii.) Convert the abool column to a string data type and view the results. What happens?"
   ]
  },
  {
   "cell_type": "code",
   "execution_count": 45,
   "id": "d8c9affe-83e6-423a-b7ad-bbc6784eaf29",
   "metadata": {},
   "outputs": [
    {
     "name": "stdout",
     "output_type": "stream",
     "text": [
      "+-----+\n",
      "|abool|\n",
      "+-----+\n",
      "|false|\n",
      "|false|\n",
      "|false|\n",
      "|false|\n",
      "|false|\n",
      "|false|\n",
      "|false|\n",
      "|false|\n",
      "| true|\n",
      "| true|\n",
      "|false|\n",
      "|false|\n",
      "| true|\n",
      "| true|\n",
      "|false|\n",
      "|false|\n",
      "|false|\n",
      "| true|\n",
      "|false|\n",
      "| true|\n",
      "+-----+\n",
      "\n"
     ]
    }
   ],
   "source": [
    "#turned them into strings\n",
    "df.select(df.abool.cast('string')).show()"
   ]
  },
  {
   "cell_type": "markdown",
   "id": "d1d4bf85-75af-4aff-80f9-6828c9b11fe3",
   "metadata": {},
   "source": [
    "# 4.) Built In Functions"
   ]
  },
  {
   "cell_type": "markdown",
   "id": "ff0ee729-9781-4141-8b4f-ce7d127a0e93",
   "metadata": {},
   "source": [
    "i.) Use the starter code above to re-create a spark dataframe."
   ]
  },
  {
   "cell_type": "code",
   "execution_count": 46,
   "id": "cd55da6f-4fc9-4b35-b11c-fb2ba596f129",
   "metadata": {},
   "outputs": [
    {
     "data": {
      "text/plain": [
       "DataFrame[n: double, group: string, abool: boolean]"
      ]
     },
     "execution_count": 46,
     "metadata": {},
     "output_type": "execute_result"
    }
   ],
   "source": [
    "df = spark.createDataFrame(pandas_dataframe)\n",
    "df"
   ]
  },
  {
   "cell_type": "markdown",
   "id": "31cc8904-559c-4aa3-92b4-e729b581a88d",
   "metadata": {},
   "source": [
    "ii.) Import the necessary functions from pyspark.sql.functions"
   ]
  },
  {
   "cell_type": "code",
   "execution_count": 58,
   "id": "dc11df8f-afbb-49f6-abe9-b37e43d018be",
   "metadata": {},
   "outputs": [],
   "source": [
    "from pyspark.sql.functions import sum, mean, concat, lit, regexp_extract, regexp_replace, when, max, min"
   ]
  },
  {
   "cell_type": "markdown",
   "id": "15f56891-2141-464a-9749-3d74e26d9bbb",
   "metadata": {},
   "source": [
    "iii.) Find the highest n value."
   ]
  },
  {
   "cell_type": "code",
   "execution_count": 57,
   "id": "c17152ec-ad9b-424e-a010-f670a8ac8ca2",
   "metadata": {},
   "outputs": [
    {
     "name": "stdout",
     "output_type": "stream",
     "text": [
      "+------------------+\n",
      "|            max(n)|\n",
      "+------------------+\n",
      "|2.1503829673811126|\n",
      "+------------------+\n",
      "\n"
     ]
    }
   ],
   "source": [
    "df.select(max(df.n)).show()"
   ]
  },
  {
   "cell_type": "markdown",
   "id": "6cab4bd3-6732-487f-bd7b-235d84f9a59f",
   "metadata": {},
   "source": [
    "iv.) find the lowest n value"
   ]
  },
  {
   "cell_type": "code",
   "execution_count": 59,
   "id": "077d2a5f-a2bd-4338-9c46-d231089f38b4",
   "metadata": {},
   "outputs": [
    {
     "name": "stdout",
     "output_type": "stream",
     "text": [
      "+------------------+\n",
      "|            min(n)|\n",
      "+------------------+\n",
      "|-1.261605945319069|\n",
      "+------------------+\n",
      "\n"
     ]
    }
   ],
   "source": [
    "df.select(min(df.n)).show()"
   ]
  },
  {
   "cell_type": "markdown",
   "id": "6cd031de-fd47-457e-aee2-89bd6ff0ece3",
   "metadata": {},
   "source": [
    "v.) Find the average n value."
   ]
  },
  {
   "cell_type": "code",
   "execution_count": 56,
   "id": "6b5db8f2-c153-495d-966d-e1c2b04f455b",
   "metadata": {},
   "outputs": [
    {
     "name": "stdout",
     "output_type": "stream",
     "text": [
      "+------------------+\n",
      "|            avg(n)|\n",
      "+------------------+\n",
      "|0.3664026449885217|\n",
      "+------------------+\n",
      "\n"
     ]
    }
   ],
   "source": [
    "df.select(mean(df.n)).show()"
   ]
  },
  {
   "cell_type": "markdown",
   "id": "847e8229-07f0-41f4-81fd-e5f3a2e5a167",
   "metadata": {},
   "source": [
    "vi.) Use concat to change the group column to say, e.g. \"Group: x\" or \"Group: y\""
   ]
  },
  {
   "cell_type": "code",
   "execution_count": 64,
   "id": "7938b036-1413-4936-844b-3bbb05537597",
   "metadata": {},
   "outputs": [
    {
     "name": "stdout",
     "output_type": "stream",
     "text": [
      "+---------+\n",
      "|new_group|\n",
      "+---------+\n",
      "|  Group:z|\n",
      "|  Group:x|\n",
      "|  Group:z|\n",
      "|  Group:y|\n",
      "|  Group:z|\n",
      "+---------+\n",
      "only showing top 5 rows\n",
      "\n"
     ]
    }
   ],
   "source": [
    "df.select(concat(lit('Group:'), df.group).alias('new_group')).show(5)"
   ]
  },
  {
   "cell_type": "markdown",
   "id": "551c7bb9-1d41-4df2-bd92-e993f030218c",
   "metadata": {},
   "source": [
    "vii.) Use concat to combine the n and group columns to produce results that look like this: \"x: -1.432\" or \"z: 2.352\""
   ]
  },
  {
   "cell_type": "code",
   "execution_count": 63,
   "id": "c7b24d82-87e2-4795-8b44-c2a927b9dae5",
   "metadata": {},
   "outputs": [
    {
     "name": "stdout",
     "output_type": "stream",
     "text": [
      "+--------------------+\n",
      "|           new_group|\n",
      "+--------------------+\n",
      "|z:-0.712390662050588|\n",
      "| x:0.753766378659703|\n",
      "|z:-0.044503078338...|\n",
      "|y:0.4518123387457...|\n",
      "|z:1.3451017084510097|\n",
      "+--------------------+\n",
      "only showing top 5 rows\n",
      "\n"
     ]
    }
   ],
   "source": [
    "df.select(concat(df.group, lit(':'), df.n).alias('new_group')).show(5)"
   ]
  },
  {
   "cell_type": "code",
   "execution_count": null,
   "id": "87b787c1-d4f0-49fe-a015-67df12793711",
   "metadata": {},
   "outputs": [],
   "source": [
    "# 5.) Whe"
   ]
  },
  {
   "cell_type": "code",
   "execution_count": null,
   "id": "f054bd50-4f30-4320-805a-2e8d27a4cc10",
   "metadata": {},
   "outputs": [],
   "source": []
  },
  {
   "cell_type": "code",
   "execution_count": 65,
   "id": "05235dd5-dcfc-476d-83b5-24fc58f03aae",
   "metadata": {},
   "outputs": [
    {
     "data": {
      "text/plain": [
       "DataFrame[n: double, group: string, abool: boolean]"
      ]
     },
     "execution_count": 65,
     "metadata": {},
     "output_type": "execute_result"
    }
   ],
   "source": [
    "df = spark.createDataFrame(pandas_dataframe)\n",
    "df"
   ]
  },
  {
   "cell_type": "code",
   "execution_count": 67,
   "id": "7b185c85-ebba-4abe-97b6-55a3d49050ca",
   "metadata": {},
   "outputs": [
    {
     "name": "stdout",
     "output_type": "stream",
     "text": [
      "+-----+-----------+\n",
      "|abool| abool_desc|\n",
      "+-----+-----------+\n",
      "|false|It is false|\n",
      "|false|It is false|\n",
      "|false|It is false|\n",
      "|false|It is false|\n",
      "|false|It is false|\n",
      "+-----+-----------+\n",
      "only showing top 5 rows\n",
      "\n"
     ]
    }
   ],
   "source": [
    "df.select(\n",
    "    'abool',\n",
    "    (when(df.abool > True, 'It is true')\n",
    "     .otherwise('It is false')\n",
    "     .alias('abool_desc'))\n",
    ").show(5)"
   ]
  },
  {
   "cell_type": "code",
   "execution_count": 68,
   "id": "34f377a4-11ac-4979-8532-a55a2af8086d",
   "metadata": {},
   "outputs": [
    {
     "name": "stdout",
     "output_type": "stream",
     "text": [
      "+--------------------+-------------------+\n",
      "|                   n|              new_n|\n",
      "+--------------------+-------------------+\n",
      "|  -0.712390662050588|                0.0|\n",
      "|   0.753766378659703|  0.753766378659703|\n",
      "|-0.04450307833805...|                0.0|\n",
      "| 0.45181233874578974|0.45181233874578974|\n",
      "|  1.3451017084510097| 1.3451017084510097|\n",
      "+--------------------+-------------------+\n",
      "only showing top 5 rows\n",
      "\n"
     ]
    }
   ],
   "source": [
    "df.select(\n",
    "    'n',\n",
    "    (when(df.n < 0, 0)\n",
    "     .otherwise(df.n)\n",
    "     .alias('new_n'))\n",
    ").show(5)"
   ]
  },
  {
   "cell_type": "code",
   "execution_count": null,
   "id": "2bcb4ac7-7d23-46dc-b270-d758b0da445e",
   "metadata": {},
   "outputs": [],
   "source": []
  }
 ],
 "metadata": {
  "kernelspec": {
   "display_name": "Python 3",
   "language": "python",
   "name": "python3"
  },
  "language_info": {
   "codemirror_mode": {
    "name": "ipython",
    "version": 3
   },
   "file_extension": ".py",
   "mimetype": "text/x-python",
   "name": "python",
   "nbconvert_exporter": "python",
   "pygments_lexer": "ipython3",
   "version": "3.8.5"
  }
 },
 "nbformat": 4,
 "nbformat_minor": 5
}
