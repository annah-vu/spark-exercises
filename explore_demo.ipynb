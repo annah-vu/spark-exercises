{
 "cells": [
  {
   "cell_type": "code",
   "execution_count": 1,
   "id": "18c300d2-3a04-45d0-84cc-737522160118",
   "metadata": {},
   "outputs": [],
   "source": [
    "import warnings\n",
    "\n",
    "warnings.filterwarnings(\"ignore\")\n",
    "\n",
    "import pyspark.sql\n",
    "from pyspark.sql.functions import *\n",
    "\n",
    "import numpy as np\n",
    "import pandas as pd\n",
    "\n",
    "%matplotlib inline\n",
    "import matplotlib.pyplot as plt\n",
    "import seaborn as sns\n",
    "\n",
    "from pyspark.sql import SparkSession\n",
    "from pyspark.sql.functions import *\n",
    "from pyspark.sql.types import StructType, StructField, StringType\n",
    "\n",
    "import wrangle as w"
   ]
  },
  {
   "cell_type": "code",
   "execution_count": 2,
   "id": "f26a21f7-2d68-49ef-9bc8-15fc904bd8cf",
   "metadata": {},
   "outputs": [],
   "source": [
    "df = w.wrangle_311()"
   ]
  },
  {
   "cell_type": "code",
   "execution_count": 6,
   "id": "861ec97a-3c01-471d-a79c-9e9423bcc275",
   "metadata": {},
   "outputs": [
    {
     "name": "stdout",
     "output_type": "stream",
     "text": [
      "-RECORD 0------------------------------------\n",
      " case_id              | 1014127332           \n",
      " case_opened_date     | 2018-01-01 00:42:00  \n",
      " case_closed_date     | 2018-01-01 12:29:00  \n",
      " case_due_date        | 2020-09-26 00:42:00  \n",
      " case_late            | false                \n",
      " num_days_late        | -998.5087616000001   \n",
      " case_closed          | true                 \n",
      " service_request_type | Stray Animal         \n",
      " SLA_days             | 999.0                \n",
      " case_status          | Closed               \n",
      " source_id            | svcCRMLS             \n",
      " request_address      | 2315  el paso st,... \n",
      " council_district     | 005                  \n",
      " num_weeks_late       | -142.6441088         \n",
      " zipcode              | 78207                \n",
      " case_age             | 1316                 \n",
      " days_to_closed       | 0                    \n",
      " case_lifetime        | 0                    \n",
      " department           | Animal Care Services \n",
      " dept_subject_to_SLA  | true                 \n",
      "only showing top 1 row\n",
      "\n"
     ]
    }
   ],
   "source": [
    "df.show(1, vertical = True)"
   ]
  },
  {
   "cell_type": "markdown",
   "id": "3fab443e-f1d3-4038-869d-a435745ecc5a",
   "metadata": {},
   "source": [
    "### On average, how late are the late cases by department?"
   ]
  },
  {
   "cell_type": "code",
   "execution_count": 3,
   "id": "2a9176af-a7ff-4db6-abe3-218866872fd4",
   "metadata": {},
   "outputs": [
    {
     "data": {
      "text/plain": [
       "Text(0.5, 1.0, 'Avg Number of Days Late By Department')"
      ]
     },
     "execution_count": 3,
     "metadata": {},
     "output_type": "execute_result"
    },
    {
     "data": {
      "image/png": "[encoded data removed]",
      "text/plain": [
       "<Figure size 1008x360 with 1 Axes>"
      ]
     },
     "metadata": {
      "needs_background": "light"
     },
     "output_type": "display_data"
    }
   ],
   "source": [
    "(\n",
    "    #only going to look at cases that were late\n",
    "    df.where('case_late')\n",
    "    \n",
    "    #group the cases by the department\n",
    "    .groupby(\"department\")\n",
    "    \n",
    "    #get an avg of the number of days it was late\n",
    "    .agg(avg(\"num_days_late\").alias(\"days_cases_late\"))\n",
    "    \n",
    "    #panda panda panda\n",
    "    .toPandas()\n",
    "    \n",
    "    #set index to department\n",
    "    .set_index(\"department\")\n",
    "    \n",
    "    #sort the values by the average number of days late\n",
    "    .days_cases_late.sort_values()\n",
    "    \n",
    "    #plot\n",
    "    .plot.barh(width=1, edgecolor=\"black\", color='green', figsize=(14, 5))\n",
    ")\n",
    "plt.xlabel(\"Avg Number of Days Late\")\n",
    "plt.title(\"Avg Number of Days Late By Department\")"
   ]
  },
  {
   "cell_type": "code",
   "execution_count": null,
   "id": "4007263d-473e-4877-bc53-dfb7b3ae32f2",
   "metadata": {},
   "outputs": [],
   "source": []
  }
 ],
 "metadata": {
  "kernelspec": {
   "display_name": "Python 3",
   "language": "python",
   "name": "python3"
  },
  "language_info": {
   "codemirror_mode": {
    "name": "ipython",
    "version": 3
   },
   "file_extension": ".py",
   "mimetype": "text/x-python",
   "name": "python",
   "nbconvert_exporter": "python",
   "pygments_lexer": "ipython3",
   "version": "3.8.5"
  }
 },
 "nbformat": 4,
 "nbformat_minor": 5
}
